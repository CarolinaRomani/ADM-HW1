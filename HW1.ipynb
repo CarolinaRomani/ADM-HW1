{
 "cells": [
  {
   "cell_type": "markdown",
   "id": "6ee2b954-362f-41a2-a8fd-75cc7a2116f3",
   "metadata": {},
   "source": [
    "## Problem 1"
   ]
  },
  {
   "cell_type": "markdown",
   "id": "baa02a9e-e5ea-450a-95a0-bed9d7c9270a",
   "metadata": {},
   "source": [
    "### Introduction"
   ]
  },
  {
   "cell_type": "code",
   "execution_count": null,
   "id": "1c5fbdcd-57fd-49d3-887a-0fc993afde5d",
   "metadata": {},
   "outputs": [],
   "source": [
    "#Say \"Hello, World!\" With Python\n",
    "if __name__ == '__main__':\n",
    "    print(\"Hello, World!\")"
   ]
  },
  {
   "cell_type": "code",
   "execution_count": null,
   "id": "0a51383c-9411-4ab7-a65d-d345bbe5a3b8",
   "metadata": {},
   "outputs": [],
   "source": [
    "#Python If-Else\n",
    "#!/bin/python3\n",
    "\n",
    "import math\n",
    "import os\n",
    "import random\n",
    "import re\n",
    "import sys\n",
    "\n",
    "\n",
    "\n",
    "if __name__ == '__main__':\n",
    "    n = int(input().strip())\n",
    "if (n % 2 == 1):\n",
    "    print(\"Weird\")\n",
    "else:\n",
    "    if (n >= 2 and n <= 5):\n",
    "        print(\"Not Weird\")\n",
    "    elif (n >= 6 and n <= 20):\n",
    "        print(\"Weird\")\n",
    "    elif (n > 20):\n",
    "        print(\"Not Weird\")"
   ]
  },
  {
   "cell_type": "code",
   "execution_count": null,
   "id": "849bbffc-5e81-4aaa-b9dc-924248844dae",
   "metadata": {},
   "outputs": [],
   "source": [
    "#Arithmetic Operators\n",
    "if __name__ == '__main__':\n",
    "    a = int(input())\n",
    "    b = int(input())\n",
    "print(a+b)\n",
    "print(a-b)\n",
    "print(a*b)\n"
   ]
  },
  {
   "cell_type": "code",
   "execution_count": null,
   "id": "a8a4b591-d95b-4479-aca8-6be5ead02238",
   "metadata": {},
   "outputs": [],
   "source": [
    "#Python: Division\n",
    "if __name__ == '__main__':\n",
    "    a = int(input())\n",
    "    b = int(input())\n",
    "    print(a // b)\n",
    "    print(a/b)\n"
   ]
  },
  {
   "cell_type": "code",
   "execution_count": null,
   "id": "63106778-3035-4144-a7d7-28f50d794aba",
   "metadata": {},
   "outputs": [],
   "source": [
    " #Loops\n",
    "if __name__ == '__main__':\n",
    "    n = int(input())\n",
    "    for i in range(0,n):\n",
    "        print(i*i)\n"
   ]
  },
  {
   "cell_type": "code",
   "execution_count": null,
   "id": "fe343bb2-4479-4021-b2ab-1b3591260294",
   "metadata": {},
   "outputs": [],
   "source": [
    "#Write a function\n",
    "def is_leap(year):\n",
    "    if year % 400 == 0:\n",
    "        return True\n",
    "    elif year % 100 == 0:\n",
    "        return False\n",
    "    elif year % 4 == 0:\n",
    "        return True\n",
    "    elif year % 4 != 0:\n",
    "        return False"
   ]
  },
  {
   "cell_type": "code",
   "execution_count": null,
   "id": "615b832a-ac35-4de1-ad1a-5714e065bb74",
   "metadata": {},
   "outputs": [],
   "source": [
    "#Print Function\n",
    "if __name__ == '__main__':\n",
    "    n = int(input())\n",
    "for i in range(1, n+1):\n",
    "    print(i, end='')\n"
   ]
  },
  {
   "cell_type": "markdown",
   "id": "61ce5871-a376-4217-b992-b106642faf6b",
   "metadata": {},
   "source": [
    "### Basic data types"
   ]
  },
  {
   "cell_type": "code",
   "execution_count": null,
   "id": "b83f9193-2afc-4e51-802c-264d885371db",
   "metadata": {},
   "outputs": [],
   "source": [
    "#List Comprehensions\n",
    "if __name__ == '__main__':\n",
    "    x = int(input())\n",
    "    y = int(input())\n",
    "    z = int(input())\n",
    "    n = int(input())\n",
    "print([[i, j, k] for i in range (x+1) for j in range (y+1) for k in range (z+1) if i+j+k!=n])"
   ]
  },
  {
   "cell_type": "code",
   "execution_count": null,
   "id": "f9255b8b-ae3e-45fd-af66-1ee35ba2ab0b",
   "metadata": {},
   "outputs": [],
   "source": [
    "#Find the Runner-Up Score!\n",
    "if __name__ == '__main__':\n",
    "    n = int(input())\n",
    "    arr = list(map(int, input().split()))\n",
    "    \n",
    "    a = max(arr)\n",
    "    c = arr.count(a)\n",
    "    for i in range (c):\n",
    "        arr.remove(a)\n",
    "    print(max(arr))"
   ]
  },
  {
   "cell_type": "code",
   "execution_count": null,
   "id": "e14a49e8-356b-4623-aafe-d4a74f701d1c",
   "metadata": {},
   "outputs": [],
   "source": [
    "#Nested Lists\n",
    "if __name__ == '__main__':\n",
    "    students=[]\n",
    "    scores=[]\n",
    "    for _ in range(int(input())):\n",
    "        name = input()\n",
    "        score = float(input())\n",
    "        student=[name,score]\n",
    "        students.append(student)\n",
    "        scores.append(score)\n",
    "    second_min_score = sorted(set(scores))[1]\n",
    "    filtered_student_names = sorted([student[0] for student in students if student[1]==second_min_score])\n",
    "    print(\"\\n\".join(filtered_student_names))"
   ]
  },
  {
   "cell_type": "code",
   "execution_count": null,
   "id": "57952904-3750-455c-a5f1-1481287e41a6",
   "metadata": {},
   "outputs": [],
   "source": [
    "#Finding the percentage\n",
    "if __name__ == '__main__':\n",
    "    n = int(input())\n",
    "    student_marks = {}\n",
    "    for _ in range(n):\n",
    "        name, *line = input().split()\n",
    "        scores = list(map(float, line))\n",
    "        student_marks[name] = scores\n",
    "    query_name = input()\n",
    "    res = sum(student_marks[query_name])/len(student_marks[name])\n",
    "    print(\"{:.2f}\".format(res))\n"
   ]
  },
  {
   "cell_type": "code",
   "execution_count": null,
   "id": "a87bcc86-d28c-474f-8e9e-060c76551dbd",
   "metadata": {},
   "outputs": [],
   "source": [
    "#Lists\n",
    "if __name__ == '__main__':\n",
    "    N = int(input())\n",
    "    l=[]\n",
    "    for i in range(N):\n",
    "        n = input().split()\n",
    "        cmd = n[0]\n",
    "        \n",
    "        if cmd == 'insert':\n",
    "            l.insert(int(n[1]),int(n[2]))\n",
    "        elif cmd == 'print':\n",
    "            print(l)\n",
    "        elif cmd == 'remove':\n",
    "            l.remove(int(n[1]))\n",
    "        elif cmd == 'append':\n",
    "            l.append(int(n[1]))\n",
    "        elif cmd == 'sort':\n",
    "            l.sort()\n",
    "        elif cmd == 'pop':\n",
    "            l.pop()\n",
    "        elif cmd == 'reverse':\n",
    "            l.reverse()\n",
    "            "
   ]
  },
  {
   "cell_type": "code",
   "execution_count": null,
   "id": "d1a1e277-b8a8-45a0-b851-6876551be388",
   "metadata": {},
   "outputs": [],
   "source": [
    "#Tuples\n",
    "if __name__ == '__main__':\n",
    "    n = int(input())\n",
    "    integer_list = map(int, input().split())\n",
    "    t = tuple(integer_list)\n",
    "    print(hash(t))"
   ]
  },
  {
   "cell_type": "markdown",
   "id": "1deb48ba-ab6f-4cd3-bb5e-9d4dce1517ae",
   "metadata": {},
   "source": [
    "### Strings"
   ]
  },
  {
   "cell_type": "code",
   "execution_count": null,
   "id": "1d681d28-08ed-4b74-88a8-376579695989",
   "metadata": {},
   "outputs": [],
   "source": [
    "#sWAP cASE\n",
    "def change(c):\n",
    "    if str.islower(c):\n",
    "        return str.upper(c)\n",
    "    else:\n",
    "        return str.lower(c)\n",
    "\n",
    "def swap_case(s):\n",
    "    return ''.join(map(change,s))\n"
   ]
  },
  {
   "cell_type": "code",
   "execution_count": null,
   "id": "be9542b3-b2e4-4d7e-8b07-30bd66e31560",
   "metadata": {},
   "outputs": [],
   "source": [
    "#String Split and Join\n",
    "\n",
    "def split_and_join(line):\n",
    "    return \"-\".join(line.split())\n",
    "\n",
    "if __name__ == '__main__':\n",
    "    line = input()\n",
    "    result = split_and_join(line)\n",
    "    print(result)"
   ]
  },
  {
   "cell_type": "code",
   "execution_count": null,
   "id": "41105496-8115-41b2-aa15-295d6efc632f",
   "metadata": {},
   "outputs": [],
   "source": [
    "#What's Your Name?\n",
    "\n",
    "def print_full_name(first, last):\n",
    "    print(\"Hello {0} {1}! You just delved into python.\".format(first,last))"
   ]
  },
  {
   "cell_type": "code",
   "execution_count": null,
   "id": "96dafcd6-65ff-464e-bf2c-9f4d5476acf3",
   "metadata": {},
   "outputs": [],
   "source": [
    "#Mutations\n",
    "def mutate_string(string, position, character):\n",
    "    chars = list(string)\n",
    "    chars[position] = character\n",
    "    return \"\".join(chars)\n",
    "   \n",
    "    return"
   ]
  },
  {
   "cell_type": "code",
   "execution_count": null,
   "id": "1ed9537c-f5fe-415a-964e-ecb6f01a15ae",
   "metadata": {},
   "outputs": [],
   "source": [
    "#Find a string\n",
    "def count_substring(string, sub_string):\n",
    "    count = 0\n",
    "    i = string.find(sub_string)\n",
    "    while i != -1:\n",
    "        count += 1\n",
    "        i = string.find(sub_string, i+1)\n",
    "    return count"
   ]
  },
  {
   "cell_type": "code",
   "execution_count": null,
   "id": "a5c01c1f-f6e0-4f9f-88a6-739bf53cb878",
   "metadata": {},
   "outputs": [],
   "source": [
    "#String Validators\n",
    "if __name__ == '__main__':\n",
    "    s = input()\n",
    "    flag_alnum = False\n",
    "    flag_alpha = False\n",
    "    flag_digit = False\n",
    "    flag_lower = False\n",
    "    flag_upper = False\n",
    "    for i in s:\n",
    "        if i.isalnum():\n",
    "            flag_alnum = True\n",
    "        if i.isalpha():\n",
    "            flag_alpha = True\n",
    "        if i.isdigit():\n",
    "            flag_digit = True\n",
    "        if i.islower():\n",
    "            flag_lower = True\n",
    "        if i.isupper():\n",
    "            flag_upper = True\n",
    "    \n",
    "    print(flag_alnum)\n",
    "    print(flag_alpha)\n",
    "    print(flag_digit)\n",
    "    print(flag_lower)\n",
    "    print(flag_upper)"
   ]
  },
  {
   "cell_type": "code",
   "execution_count": null,
   "id": "66611a18-f2c4-4d1e-bae1-7fa382d62aee",
   "metadata": {},
   "outputs": [],
   "source": [
    "#Text Alignment\n",
    "thickness = int(input()) #This must be an odd number\n",
    "c = 'H'\n",
    "\n",
    "#Top Cone\n",
    "for i in range(thickness):\n",
    "    print((c*i).rjust(thickness-1)+c+(c*i).ljust(thickness-1))\n",
    "\n",
    "#Top Pillars\n",
    "for i in range(thickness+1):\n",
    "    print((c*thickness).center(thickness*2)+(c*thickness).center(thickness*6))\n",
    "\n",
    "#Middle Belt\n",
    "for i in range((thickness+1)//2):\n",
    "    print((c*thickness*5).center(thickness*6))    \n",
    "\n",
    "#Bottom Pillars\n",
    "for i in range(thickness+1):\n",
    "    print((c*thickness).center(thickness*2)+(c*thickness).center(thickness*6))    \n",
    "\n",
    "#Bottom Cone\n",
    "for i in range(thickness):\n",
    "    print(((c*(thickness-i-1)).rjust(thickness)+c+(c*(thickness-i-1)).ljust(thickness)).rjust(thickness*6))"
   ]
  },
  {
   "cell_type": "code",
   "execution_count": null,
   "id": "e9e5450c-2009-4bad-8eea-c6a2a076f9a5",
   "metadata": {},
   "outputs": [],
   "source": [
    "#Text Wrap\n",
    "\n",
    "\n",
    "def wrap(string, max_width):\n",
    "    return textwrap.fill(string, max_width)"
   ]
  },
  {
   "cell_type": "code",
   "execution_count": null,
   "id": "74827788-1626-4585-b4f8-5b16a999f08b",
   "metadata": {},
   "outputs": [],
   "source": [
    "#Designer Door Mat\n",
    "N,M = map(int,input().split())\n",
    "for i in range(1,N,2): \n",
    "    print((i * \".|.\").center(M, \"-\"))\n",
    "print(\"WELCOME\".center(M,\"-\"))\n",
    "for i in range(N-2,-1,-2): \n",
    "    print((i * \".|.\").center(M, \"-\"))"
   ]
  },
  {
   "cell_type": "code",
   "execution_count": null,
   "id": "5dfea227-6f08-4cec-ae96-58b5307d23f8",
   "metadata": {},
   "outputs": [],
   "source": [
    "#String Formatting\n",
    "def print_formatted(number):\n",
    "    lens = len(str(bin(number)))-2\n",
    "    for i in range(1,number+1):\n",
    "        a = str(i)\n",
    "        b = str(oct(i))[2:]\n",
    "        c = str(hex(i))[2:].upper()\n",
    "        d = str(bin(i))[2:]\n",
    "        print(a.rjust(lens,\" \"),b.rjust(lens,\" \"),c.rjust(lens,\" \"),d.rjust(lens,\" \"))"
   ]
  },
  {
   "cell_type": "code",
   "execution_count": null,
   "id": "678ba4bf-1939-445d-aec5-be2123c9f5a3",
   "metadata": {},
   "outputs": [],
   "source": [
    "#Alphabet Rangoli\n",
    "def print_rangoli(size):\n",
    "    alp = 'abcdefghijklmnopqrstuvwxyz'\n",
    "    for i in range(size-1,-size,-1):\n",
    "        temp = '-'.join(alp[size-1:abs(i):-1]+alp[abs(i):size])\n",
    "        print(temp.center(4*size-3,'-'))"
   ]
  },
  {
   "cell_type": "code",
   "execution_count": null,
   "id": "d550bc1c-6da5-4b61-bcd4-f66721f0c85f",
   "metadata": {},
   "outputs": [],
   "source": [
    "#Capitalize!\n",
    "def solve(s):\n",
    "    name = []\n",
    "    full_name = s.split(\" \")\n",
    "    for i in range(0,len(full_name)):\n",
    "        name.append(full_name[i].capitalize())\n",
    "        \n",
    "    return \" \".join(name)"
   ]
  },
  {
   "cell_type": "code",
   "execution_count": null,
   "id": "f56a6bb9-c3b5-4fe6-b625-b75cbc058285",
   "metadata": {},
   "outputs": [],
   "source": [
    "#The Minion Game\n",
    "def minion_game(string):\n",
    "    vowel =['A','E','I','O','U']\n",
    "    S=0\n",
    "    K=0\n",
    "    for i in range(len(string)):\n",
    "        if string[i] in vowel:\n",
    "            K+= len(string)-i\n",
    "        else:\n",
    "            S+=len(string)-i\n",
    "    if S>K:\n",
    "        print(\"Stuart\"+\" \"+ \"%d\" % S)\n",
    "    elif K>S:\n",
    "        print(\"Kevin\"+\" \"+'%d' % K)\n",
    "    else:\n",
    "        print(\"Draw\")"
   ]
  },
  {
   "cell_type": "code",
   "execution_count": null,
   "id": "76b352d8-4d56-4d04-8ecf-379cd1198ee1",
   "metadata": {},
   "outputs": [],
   "source": [
    "#Merge the Tools!\n",
    "def merge_the_tools(string, k):\n",
    "    for i in range(0, len(string), k):\n",
    "        w = ''\n",
    "        for j in range(i, i+k):\n",
    "            if string[j] not in w:\n",
    "                w += string[j]\n",
    "        print(w)"
   ]
  },
  {
   "cell_type": "markdown",
   "id": "72afc4ee-0efc-4984-9b06-16fd73e93a93",
   "metadata": {},
   "source": [
    "### Sets"
   ]
  },
  {
   "cell_type": "code",
   "execution_count": null,
   "id": "8c6f7c94-12d6-40be-9439-6e5e5a69742f",
   "metadata": {},
   "outputs": [],
   "source": [
    "#Introduction to Sets\n",
    "def average(array):\n",
    "    return sum(set(array))/len(set(array))"
   ]
  },
  {
   "cell_type": "code",
   "execution_count": null,
   "id": "5de70e58-418e-4625-af0b-e0b991b8db7f",
   "metadata": {},
   "outputs": [],
   "source": [
    "#No Idea!\n",
    "from collections import Counter\n",
    "n, m = map(int,input().split())\n",
    "ar = list(map(int,input().split()))\n",
    "ar_set = set(ar)\n",
    "ar_counter = Counter(ar)\n",
    "set_a = set(map(int,input().split()))\n",
    "set_b = set(map(int,input().split()))\n",
    "intersect_ar_a = list(ar_set&set_a)\n",
    "intersect_ar_b = list(ar_set&set_b)\n",
    "result = 0\n",
    "for element in intersect_ar_a:\n",
    "    result += ar_counter[element]\n",
    "for element in intersect_ar_b:\n",
    "    result -= ar_counter[element]\n",
    "    \n",
    "print(result)"
   ]
  },
  {
   "cell_type": "code",
   "execution_count": null,
   "id": "40682f1c-c011-400a-b9cf-b0e7368584a9",
   "metadata": {},
   "outputs": [],
   "source": [
    "#Symmetric Difference\n",
    "m = int(input())\n",
    "set_a = set(map(int, input().split()))\n",
    "n = int(input())\n",
    "set_b = set(map(int, input().split()))\n",
    "set_a_diff = set_a.difference(set_b)\n",
    "set_b_diff = set_b.difference(set_a)\n",
    "for i in sorted(set_a_diff.union(set_b_diff)):\n",
    "    print(i)\n"
   ]
  },
  {
   "cell_type": "code",
   "execution_count": null,
   "id": "5772b730-3460-408d-b0f0-447bfe3548e6",
   "metadata": {},
   "outputs": [],
   "source": [
    "#Set .add()\n",
    "n = int(input())\n",
    "country_set = set()\n",
    "for i in range(n):\n",
    "    country_name = input()\n",
    "    country_set.add(country_name)\n",
    "print(len(country_set))"
   ]
  },
  {
   "cell_type": "code",
   "execution_count": null,
   "id": "214fe06f-2ba1-4b01-9a5b-8576ff50dd74",
   "metadata": {},
   "outputs": [],
   "source": [
    "#Set .discard(), .remove() & .pop()\n",
    "n = int(input())\n",
    "s = set(map(int, input().split()))\n",
    "\n",
    "for i in range(int(input())):\n",
    "    s1 = input().split()\n",
    "    if s1[0] == 'pop':\n",
    "        s.pop()\n",
    "    elif s1[0] == 'remove':\n",
    "        s.remove(int(s1[1]))\n",
    "    elif s1[0] == 'discard':\n",
    "        s.discard(int(s1[1]))\n",
    "print(sum(s))"
   ]
  },
  {
   "cell_type": "code",
   "execution_count": null,
   "id": "e622d5af-338d-4c5d-ac05-bd1ed6385ea4",
   "metadata": {},
   "outputs": [],
   "source": [
    "#Set .union() Operation\n",
    "n = input()\n",
    "eng = set(map(int,input().split()))\n",
    "b = input()\n",
    "fre = set(map(int,input().split()))\n",
    "print(len(eng.union(fre)))"
   ]
  },
  {
   "cell_type": "code",
   "execution_count": null,
   "id": "591ac6ca-a15e-49ee-b511-8cf90cca2779",
   "metadata": {},
   "outputs": [],
   "source": [
    "#Set .intersection() Operation\n",
    "e = int(input())\n",
    "eng = set(map(int,input().split()))\n",
    "f = int(input())\n",
    "fre = set(map(int,input().split()))\n",
    "print(len(eng & fre))"
   ]
  },
  {
   "cell_type": "code",
   "execution_count": null,
   "id": "e31e5367-67db-46a2-8da2-bb27d00848ea",
   "metadata": {},
   "outputs": [],
   "source": [
    "#Set .difference() Operation\n",
    "e = int(input())\n",
    "eng = set(map(int,input().split())) \n",
    "f = int(input())\n",
    "fre = set(map(int,input().split()))\n",
    "print(len(eng - fre))"
   ]
  },
  {
   "cell_type": "code",
   "execution_count": null,
   "id": "8f9fce8a-d0f6-4c08-839a-87c59d52369d",
   "metadata": {},
   "outputs": [],
   "source": [
    "#Set .symmetric_difference() Operation\n",
    "e = int(input())\n",
    "eng = set(map(int,input().split())) \n",
    "f = int(input())\n",
    "fre = set(map(int,input().split()))\n",
    "print(len(eng ^ fre))"
   ]
  },
  {
   "cell_type": "code",
   "execution_count": null,
   "id": "b69e75bb-22b9-406b-81e5-09246babdc5c",
   "metadata": {},
   "outputs": [],
   "source": [
    "#Set Mutations\n",
    "input()\n",
    "L = set(input().split())\n",
    "for _ in range(int(input())):\n",
    "    command, *args = input().split()\n",
    "    getattr(L, command)(set(input().split())) \n",
    "print(sum(map(int, L)))"
   ]
  },
  {
   "cell_type": "code",
   "execution_count": null,
   "id": "c9a8d721-4f72-42e5-bb8c-df1c9f98573e",
   "metadata": {},
   "outputs": [],
   "source": [
    "#The Captain's room\n",
    "k = int(input())\n",
    "room_number_list = list(map(int,input().split()))\n",
    "room_number_set = set(room_number_list)\n",
    "room_number_list_sum = sum(room_number_list)\n",
    "room_number_set_sum = sum(room_number_set) * k\n",
    "diff = room_number_set_sum - room_number_list_sum\n",
    "for i in room_number_set:\n",
    "    if diff == ((k-1)*i):\n",
    "        print(i)\n",
    "        break"
   ]
  },
  {
   "cell_type": "code",
   "execution_count": null,
   "id": "33781cb0-c484-4645-b831-83e5a316aed7",
   "metadata": {},
   "outputs": [],
   "source": [
    "#Check Subset\n",
    "for i in range(int(input())): \n",
    "    a = int(input()); A = set(input().split()) \n",
    "    b = int(input()); B = set(input().split())\n",
    "    print((A & B) == A)"
   ]
  },
  {
   "cell_type": "code",
   "execution_count": null,
   "id": "0999ed8c-d7a4-4eda-bd0f-464bb773f8c6",
   "metadata": {},
   "outputs": [],
   "source": [
    "#Check Strict Superset\n",
    "A  = set(input().split())\n",
    "n = int(input())\n",
    "check = True\n",
    "for i in range(n):\n",
    "    s = set(input().split())\n",
    "    if (s&A != s) or (s == A):\n",
    "        check = False\n",
    "        break\n",
    "print(check)"
   ]
  },
  {
   "cell_type": "markdown",
   "id": "e2cba8b3-b481-401c-bd53-a0e80404d335",
   "metadata": {},
   "source": [
    "### Collections"
   ]
  },
  {
   "cell_type": "code",
   "execution_count": null,
   "id": "411e1aff-4de9-40ae-b4a7-0845df22ded8",
   "metadata": {},
   "outputs": [],
   "source": [
    "#collections.Counter()\n",
    "x = int(input())\n",
    "shoe_size = list(map(int,input().split()))\n",
    "n = int(input())\n",
    "sell = 0\n",
    "for i in range(n):\n",
    "    s, p = map(int,input().split())\n",
    "    if s in shoe_size:\n",
    "        sell = sell + p\n",
    "        shoe_size.remove(s)\n",
    "print(sell)"
   ]
  },
  {
   "cell_type": "code",
   "execution_count": null,
   "id": "db340ae4-16b0-4b4b-8ac7-f1396fc2f0da",
   "metadata": {},
   "outputs": [],
   "source": [
    "#DefaultDict Tutorial\n",
    "from collections import defaultdict\n",
    "d = defaultdict(list)\n",
    "n,m=map(int,input().split())\n",
    "for i in range(n):\n",
    "    w = input()\n",
    "    d[w].append(str(i+1))\n",
    "for j in range(m):\n",
    "    w = input()\n",
    "    print(' '.join(d[w]) or -1)"
   ]
  },
  {
   "cell_type": "code",
   "execution_count": null,
   "id": "9c164eeb-684d-48c6-bcb3-c92be1972301",
   "metadata": {},
   "outputs": [],
   "source": [
    "#Collections.namedtuple()\n",
    "n = int(input())\n",
    "col_list = list(input().split())\n",
    "marks_col = col_list.index(\"MARKS\")\n",
    "marks_list = []\n",
    "for i in range(n):\n",
    "    info_list = list(input().split())\n",
    "    marks_list.append(float(info_list[marks_col]))\n",
    "print(sum(marks_list)/n)"
   ]
  },
  {
   "cell_type": "code",
   "execution_count": null,
   "id": "a484e610-aa8a-4cd4-91c1-cf0fbf151598",
   "metadata": {},
   "outputs": [],
   "source": [
    "#Collections.OrderedDict()\n",
    "import collections, re\n",
    "n = int(input())\n",
    "item_od = collections.OrderedDict()\n",
    "for i in range(n):\n",
    "    record_list = re.split(r'(\\d+)$',input().strip())\n",
    "    item_name = record_list[0]\n",
    "    item_price = int(record_list[1])\n",
    "    if item_name not in item_od:\n",
    "        item_od[item_name]=item_price\n",
    "    else:\n",
    "        item_od[item_name]=item_od[item_name]+item_price\n",
    "            \n",
    "for i in item_od:\n",
    "    print(i+str(item_od[i]))\n"
   ]
  },
  {
   "cell_type": "code",
   "execution_count": null,
   "id": "0d1451d4-1548-40f9-81ce-50ec538b9d31",
   "metadata": {},
   "outputs": [],
   "source": [
    "#Word Order\n",
    "from collections import Counter, OrderedDict\n",
    "class OrderedCounter(Counter,OrderedDict):\n",
    "    pass\n",
    "\n",
    "word_ar = []\n",
    "n = int(input())\n",
    "for i in range(n):\n",
    "    word_ar.append(input().strip())\n",
    "word_counter = OrderedCounter(word_ar)\n",
    "print(len(word_counter))\n",
    "for word in word_counter:\n",
    "    print(word_counter[word],end=' ')"
   ]
  },
  {
   "cell_type": "code",
   "execution_count": null,
   "id": "d8057709-5b68-4b98-9535-0df78fa5a8cd",
   "metadata": {},
   "outputs": [],
   "source": [
    "#Collections.deque()\n",
    "import collections\n",
    "n = int(input())\n",
    "d = collections.deque()\n",
    "for i in range(n):\n",
    "    cmd = list(input().strip().split())\n",
    "    opt = cmd[0]\n",
    "    if opt == 'pop':\n",
    "        d.pop()\n",
    "    elif opt == 'popleft':\n",
    "        d.popleft()\n",
    "    elif opt == 'append':\n",
    "        d.append(int(cmd[1]))\n",
    "    elif opt == 'appendleft':\n",
    "        d.appendleft(int(cmd[1]))\n",
    "for i in d:\n",
    "    print(i,end=' ')"
   ]
  },
  {
   "cell_type": "code",
   "execution_count": null,
   "id": "fa6e55d4-d3da-4a81-af1e-d3122f4343b4",
   "metadata": {},
   "outputs": [],
   "source": [
    "#Piling Up!\n",
    "from collections import deque\n",
    "cas = int(input())\n",
    "for t in range(cas):\n",
    "    n = int(input())\n",
    "    dq = deque(map(int,input().split()))\n",
    "    possible = True\n",
    "    element = (2**31)+1\n",
    "    while dq:\n",
    "        left_element = dq[0]\n",
    "        right_element = dq[-1]\n",
    "        if left_element>=right_element and element>=left_element:\n",
    "            element = dq.popleft()\n",
    "        elif right_element>=left_element and element>=right_element:\n",
    "            element = dq.pop()\n",
    "        else:\n",
    "            possible = False\n",
    "            break\n",
    "    if possible:\n",
    "        print('Yes')\n",
    "    else:\n",
    "        print('No')   "
   ]
  },
  {
   "cell_type": "code",
   "execution_count": null,
   "id": "0d36be4a-a351-4201-a7bd-0b42ab3ff0fd",
   "metadata": {},
   "outputs": [],
   "source": [
    "#Company Logo\n",
    "from collections import Counter, OrderedDict\n",
    "\n",
    "class OrderedCounter(Counter, OrderedDict):\n",
    "    pass\n",
    "[print(*c) for c in OrderedCounter(sorted(input())).most_common(3)]"
   ]
  },
  {
   "cell_type": "markdown",
   "id": "5a01d599-494b-476c-90e8-4c4be960a8cc",
   "metadata": {},
   "source": [
    "### Date and Time"
   ]
  },
  {
   "cell_type": "code",
   "execution_count": null,
   "id": "d7d94079-bbd5-4c5c-a031-97047c48417f",
   "metadata": {},
   "outputs": [],
   "source": [
    "#Calendar Module\n",
    "import datetime\n",
    "import calendar\n",
    "m,d,y=map(int,input().split())\n",
    "input_date = datetime.date(y,m,d)\n",
    "print(calendar.day_name[input_date.weekday()].upper())"
   ]
  },
  {
   "cell_type": "code",
   "execution_count": null,
   "id": "ae0345de-85d1-4109-aa3b-d93d8f687785",
   "metadata": {},
   "outputs": [],
   "source": [
    "#Time Delta\n",
    "import datetime\n",
    "cas = int(input())\n",
    "for t in range(cas):\n",
    "    timestamp1 = input().strip()\n",
    "    timestamp2 = input().strip()\n",
    "    time_format = \"%a %d %b %Y %H:%M:%S %z\"\n",
    "    time_second1 = datetime.datetime.strptime(timestamp1,time_format)\n",
    "    time_second2 = datetime.datetime.strptime(timestamp2,time_format)\n",
    "    print(int(abs((time_second1-time_second2).total_seconds())))"
   ]
  },
  {
   "cell_type": "markdown",
   "id": "be900f4b-1cbd-490f-9fdd-2ba08b83833a",
   "metadata": {},
   "source": [
    "### Errors and Exceptions"
   ]
  },
  {
   "cell_type": "code",
   "execution_count": null,
   "id": "c3848b01-2729-4f98-a3ef-496232825e76",
   "metadata": {},
   "outputs": [],
   "source": [
    "#Exceptions\n",
    "n = int(input())\n",
    "for i in range (n):\n",
    "    a,b = input().split()\n",
    "    try:\n",
    "        print(int(a)//int(b))\n",
    "    except Exception as e:\n",
    "        print(\"Error Code:\",e)\n"
   ]
  },
  {
   "cell_type": "markdown",
   "id": "6aa2944e-f791-4d82-956f-64f686b34c4c",
   "metadata": {},
   "source": [
    "### Built-ins"
   ]
  },
  {
   "cell_type": "code",
   "execution_count": null,
   "id": "27751ffc-124b-4082-bb8d-eeb124089de2",
   "metadata": {},
   "outputs": [],
   "source": [
    "#Zipped!\n",
    "n, x = map(int,input().split())\n",
    "ar = [0 for i in range(n)]\n",
    "for i in range(x):\n",
    "    temp_ar=list(map(float,input().split()))\n",
    "    for j in range(n):\n",
    "        ar[j] += temp_ar[j]\n",
    "for i in range(n):\n",
    "    print(ar[i]/x)\n"
   ]
  },
  {
   "cell_type": "code",
   "execution_count": null,
   "id": "a749a948-164f-446b-9e3a-736ac99cabfe",
   "metadata": {},
   "outputs": [],
   "source": [
    "#Athlete Sort\n",
    "N, M = map(int, input().split())\n",
    "rows = [input() for _ in range(N)]\n",
    "K = int(input())\n",
    "\n",
    "for row in sorted(rows, key=lambda row: int(row.split()[K])):\n",
    "    print(row)"
   ]
  },
  {
   "cell_type": "code",
   "execution_count": null,
   "id": "4a0c4c0e-4b45-4e35-83c5-6396d206896d",
   "metadata": {},
   "outputs": [],
   "source": [
    "#ginortS\n",
    "def getKey(x):\n",
    "    if x.islower():\n",
    "        return(1,x)\n",
    "    elif x.isupper():\n",
    "        return(2,x)\n",
    "    elif x.isdigit() :\n",
    "        if int(x)%2==1:\n",
    "            return(3,x)\n",
    "        else :\n",
    "            return(4,x)\n",
    "\n",
    "print(*sorted(input(),key=getKey),sep='')"
   ]
  },
  {
   "cell_type": "markdown",
   "id": "9e55559f-a7af-4e75-86cc-82c68bd2008b",
   "metadata": {},
   "source": [
    "### Python Functionals"
   ]
  },
  {
   "cell_type": "code",
   "execution_count": null,
   "id": "b4c801a2-a516-41d1-94d2-e1fbc4647e2c",
   "metadata": {},
   "outputs": [],
   "source": [
    "#Map and Lambda Function\n",
    "cube = lambda x: pow(x,3)\n",
    "\n",
    "def fibonacci(n):\n",
    "    lis = [0,1]\n",
    "    for i in range(2,n):\n",
    "        lis.append(lis[i-2] + lis[i-1])\n",
    "    return(lis[0:n])\n",
    "    "
   ]
  },
  {
   "cell_type": "markdown",
   "id": "08f675d1-44ed-4833-8eb1-fef43449e7b6",
   "metadata": {},
   "source": [
    "### Regex and Parsing challenges"
   ]
  },
  {
   "cell_type": "code",
   "execution_count": null,
   "id": "06f87092-a356-401d-b7b3-81d6624dde74",
   "metadata": {},
   "outputs": [],
   "source": [
    "#Detect Floating Point Number\n",
    "from re import match, compile\n",
    "\n",
    "pattern = compile('^[-+]?\\d*\\.\\d+$')\n",
    "for _ in range(int(input())):\n",
    "    print(bool(pattern.match(input())))"
   ]
  },
  {
   "cell_type": "code",
   "execution_count": null,
   "id": "6b517d9a-3e2a-48a1-a219-38b40c1d14fe",
   "metadata": {},
   "outputs": [],
   "source": [
    "#Re.split()\n",
    "regex_pattern = r'[.,]+'\n"
   ]
  },
  {
   "cell_type": "code",
   "execution_count": null,
   "id": "7f6eb372-ce69-40f6-b7e0-4d044b835628",
   "metadata": {},
   "outputs": [],
   "source": [
    "#Group(), Groups() & Groupdict()\n",
    "import re\n",
    "s = input()\n",
    "res = re.search(r'([A-Za-z0-9])\\1',s)\n",
    "if res == None:\n",
    "    print(-1)\n",
    "else:\n",
    "    print(res.group(1))"
   ]
  },
  {
   "cell_type": "code",
   "execution_count": null,
   "id": "3ab784e9-5b5d-4451-828b-f5d4c0642670",
   "metadata": {},
   "outputs": [],
   "source": [
    "#Re.findall() & Re.finditer()\n",
    "import re\n",
    "s = input()\n",
    "result = re.findall(r'(?<=[QWRTYPSDFGHJKLZXCVBNMqwrtypsdfghjklzxcvbnm])([AEIOUaeiou]{2,})(?=[QWRTYPSDFGHJKLZXCVBNMqwrtypsdfghjklzxcvbnm])',s)\n",
    "if result:\n",
    "    for i in result:\n",
    "        print(i)\n",
    "else:\n",
    "    print(-1)\n"
   ]
  },
  {
   "cell_type": "code",
   "execution_count": null,
   "id": "13a953ae-807e-437f-ba9b-97c2263219de",
   "metadata": {},
   "outputs": [],
   "source": [
    "#Re.start() & Re.end()\n",
    "import re\n",
    "s = input().strip()\n",
    "k = input().strip()\n",
    "s_len = len(s)\n",
    "found_flag = False\n",
    "for i in range(s_len):\n",
    "    match_result = re.match(k,s[i:])\n",
    "    if match_result:\n",
    "        start_index = i+match_result.start()\n",
    "        end_index = i+match_result.end()-1\n",
    "        print((start_index,end_index))\n",
    "        found_flag = True\n",
    "if found_flag == False:\n",
    "    print('(-1, -1)')"
   ]
  },
  {
   "cell_type": "code",
   "execution_count": null,
   "id": "7e4f0d6a-d102-4ff6-baa7-3d5d0af96d39",
   "metadata": {},
   "outputs": [],
   "source": [
    "#Regex Substitution\n",
    "import re, sys\n",
    "n = int(input())\n",
    "for line in sys.stdin:\n",
    "    remove_and = re.sub(r'(?<= )(&&)(?= )',\"and\",line)\n",
    "    remove_or = re.sub(r'(?<= )(\\|\\|)(?= )',\"or\",remove_and)\n",
    "    print(remove_or,end='')"
   ]
  },
  {
   "cell_type": "code",
   "execution_count": null,
   "id": "16d3cf71-97f7-456d-8b65-8a0193297933",
   "metadata": {},
   "outputs": [],
   "source": [
    "#Validating Roman Numerals\n",
    "regex_pattern = r\"^M{0,3}(CM|CD|D?C{0,3})(XC|XL|L?X{0,3})(IX|IV|V?I{0,3})$\"\t"
   ]
  },
  {
   "cell_type": "code",
   "execution_count": null,
   "id": "8a25d8ea-61ed-4d49-95aa-3af61f0721c5",
   "metadata": {},
   "outputs": [],
   "source": [
    "#Validating phone numbers\n",
    "import re\n",
    "[print('YES' if re.match(r'[789]\\d{9}$',input()) else 'NO') for _ in range(int(input()))]"
   ]
  },
  {
   "cell_type": "code",
   "execution_count": null,
   "id": "d155435f-3d53-4bc1-9625-f95d66226768",
   "metadata": {},
   "outputs": [],
   "source": [
    "#Validating and Parsing Email Addresses\n",
    "import re, email.utils\n",
    "n = int(input())\n",
    "for t in range(n):\n",
    "    s = input()\n",
    "    parsed_email = email.utils.parseaddr(s)[1].strip()\n",
    "    match_result = bool(re.match(r'(^[A-Za-z][A-Za-z0-9\\._-]+)@([A-Za-z]+)\\.([A-Za-z]{1,3})$',parsed_email))\n",
    "    if match_result == True:\n",
    "        print(s)"
   ]
  },
  {
   "cell_type": "code",
   "execution_count": null,
   "id": "2c401576-ad0e-4f15-9e86-783af9ca5cb5",
   "metadata": {},
   "outputs": [],
   "source": [
    "#Hex Color Code\n",
    "import re\n",
    "n = int(input())\n",
    "for t in range(n):\n",
    "    s = input()\n",
    "    match_result = re.findall(r'(#[0-9A-Fa-f]{3}|#[0-9A-Fa-f]{6})(?:[;,.)]{1})',s)\n",
    "    for i in match_result:\n",
    "        if i != '':\n",
    "            print(i)"
   ]
  },
  {
   "cell_type": "code",
   "execution_count": null,
   "id": "8962ba49-4773-48b7-ba62-265b0c554850",
   "metadata": {},
   "outputs": [],
   "source": [
    "#HTML Parser - Part 1\n",
    "from html.parser import HTMLParser\n",
    "\n",
    "class CustomHTMLParser(HTMLParser):\n",
    "    \n",
    "    def handle_attr(self,attrs):\n",
    "        for attr_val_tuple in attrs:\n",
    "            print('->',attr_val_tuple[0],'>',attr_val_tuple[1])\n",
    "\n",
    "    def handle_starttag(self,tag,attrs):\n",
    "        print(\"Start :\",tag)\n",
    "        self.handle_attr(attrs)\n",
    "\n",
    "    def handle_endtag(self,tag):\n",
    "        print(\"End   :\",tag)\n",
    "\n",
    "    def handle_startendtag(self,tag, attrs):\n",
    "        print(\"Empty :\",tag)\n",
    "        self.handle_attr(attrs)\n",
    "\n",
    "parser = CustomHTMLParser()\n",
    "\n",
    "n = int(input())\n",
    "\n",
    "s = ''\n",
    "for i in range(n):\n",
    "    s += input()\n",
    "    \n",
    "parser.feed(s)\n"
   ]
  },
  {
   "cell_type": "code",
   "execution_count": null,
   "id": "8bc6db64-d734-400c-9cce-43f3f0ae60e5",
   "metadata": {},
   "outputs": [],
   "source": [
    "#HTML Parser - Part 2\n",
    "from html.parser import HTMLParser\n",
    "class CustomHTMLParser(HTMLParser):\n",
    "    def handle_comment(self, data):\n",
    "        number_of_line = len(data.split('\\n'))\n",
    "        if number_of_line>1:\n",
    "            print('>>> Multi-line Comment')\n",
    "        else:\n",
    "            print('>>> Single-line Comment')\n",
    "        if data.strip():\n",
    "            print(data)\n",
    "\n",
    "    def handle_data(self, data):\n",
    "        if data.strip():\n",
    "            print(\">>> Data\")\n",
    "            print(data)\n",
    "\n",
    "parser = CustomHTMLParser()\n",
    "\n",
    "n = int(input())\n",
    "\n",
    "html_string = ''\n",
    "for i in range(n):\n",
    "    html_string += input().rstrip()+'\\n'\n",
    "    \n",
    "parser.feed(html_string)\n",
    "parser.close()"
   ]
  },
  {
   "cell_type": "code",
   "execution_count": null,
   "id": "3a3d51d6-3492-4ca7-b667-c4f4083d8bad",
   "metadata": {},
   "outputs": [],
   "source": [
    "#Detect HTML Tags, Attributes and Attribute Values\n",
    "from html.parser import HTMLParser\n",
    "\n",
    "class CustomHTMLParser(HTMLParser):\n",
    "    def handle_starttag(self,tag,attrs):\n",
    "        print(tag)\n",
    "        self.handle_attrs(attrs)\n",
    "    def handle_startendtag(self,tag,attrs):\n",
    "        print(tag)\n",
    "        self.handle_attrs(attrs)\n",
    "    def handle_attrs(self,attrs):\n",
    "        for attrs_pair in attrs:\n",
    "            print('->',attrs_pair[0].strip(),'>',attrs_pair[1].strip())        \n",
    "\n",
    "n = int(input())\n",
    "html_string = ''\n",
    "for i in range(n):\n",
    "    html_string += input()\n",
    "    \n",
    "customHTMLParser = CustomHTMLParser()\n",
    "customHTMLParser.feed(html_string)\n",
    "customHTMLParser.close()"
   ]
  },
  {
   "cell_type": "code",
   "execution_count": null,
   "id": "4bc7290d-ee09-4e2d-8dca-8f47b6a4f62b",
   "metadata": {},
   "outputs": [],
   "source": [
    "#Validating UID\n",
    "import re\n",
    "n = int(input())\n",
    "upper_check = r'.*([A-Z].*){2,}'\n",
    "digit_check = r'.*([0-9].*){3,}'\n",
    "alphanumeric_and_length_check = r'([A-Za-z0-9]){10}$'\n",
    "repeat_check = r'.*(.).*\\1'\n",
    "for i in range(n):\n",
    "    uid_string = input().strip()\n",
    "    upper_check_result = bool(re.match(upper_check,uid_string))\n",
    "    digit_check_result = bool(re.match(digit_check,uid_string))\n",
    "    alphanumeric_and_length_check_result = bool(re.match(alphanumeric_and_length_check,uid_string))\n",
    "    repeat_check_result = bool(re.match(repeat_check,uid_string))    \n",
    "    if upper_check_result and digit_check_result and alphanumeric_and_length_check_result and not repeat_check_result:\n",
    "        print('Valid')\n",
    "    else:\n",
    "        print('Invalid')"
   ]
  },
  {
   "cell_type": "code",
   "execution_count": null,
   "id": "ca175571-9591-409f-b790-e27b612ef2d0",
   "metadata": {},
   "outputs": [],
   "source": [
    "#Validating Credit Card Numbers\n",
    "import re\n",
    "\n",
    "\n",
    "for _ in range(int(input())):\n",
    "    s = input()\n",
    "\n",
    "    if re.match(r\"^[456]([\\d]{15}|[\\d]{3}(-[\\d]{4}){3})$\", s) and not re.search(r\"([\\d])\\1\\1\\1\", s.replace(\"-\", \"\")):\n",
    "        print(\"Valid\")\n",
    "    else:\n",
    "        print(\"Invalid\")"
   ]
  },
  {
   "cell_type": "code",
   "execution_count": null,
   "id": "416f27fe-41d2-4aec-9347-f0927b0cf8fc",
   "metadata": {},
   "outputs": [],
   "source": [
    "#Validating Postal Codes\n",
    "regex_integer_in_range = r\"^[1-9][0-9]{5}$\"\t\n",
    "regex_alternating_repetitive_digit_pair = r\"(\\d)(?=.\\1)\"\t"
   ]
  },
  {
   "cell_type": "code",
   "execution_count": null,
   "id": "a90c5af6-630c-47ec-94ba-f47e13e4a6ee",
   "metadata": {},
   "outputs": [],
   "source": [
    "#Matrix Script\n",
    "import math\n",
    "import os\n",
    "import random\n",
    "import re\n",
    "import sys\n",
    "\n",
    "\n",
    "first_multiple_input = input().rstrip().split()\n",
    "\n",
    "n = int(first_multiple_input[0])\n",
    "\n",
    "m = int(first_multiple_input[1])\n",
    "\n",
    "matrix=[input() for _ in range(n)]\n",
    "message=\"\".join([matrix[i][j] for j in range(m) for i in range(n)])\n",
    "print(re.sub(r\"([a-zA-Z])[ !@#$%&]{1,}([a-zA-Z])\",r'\\1 \\2',message))\n"
   ]
  },
  {
   "cell_type": "markdown",
   "id": "703f7065-cf61-46c4-9817-41f6c0fbd735",
   "metadata": {},
   "source": [
    "### XML"
   ]
  },
  {
   "cell_type": "code",
   "execution_count": null,
   "id": "71e9f41d-0592-47ed-824e-f90667d04303",
   "metadata": {},
   "outputs": [],
   "source": [
    "#XML1 - Find the score\n",
    "\n",
    "\n",
    "def get_attr_number(node):\n",
    "    return etree.tostring(node).count(b'=')"
   ]
  },
  {
   "cell_type": "code",
   "execution_count": null,
   "id": "a47e1bda-c145-4a0f-835b-770b37bd2d76",
   "metadata": {},
   "outputs": [],
   "source": [
    "#XML2 - Find the Maximum Depth\n",
    "maxdepth = 0\n",
    "def depth(elem, level):\n",
    "    global maxdepth\n",
    "    maxdepth = -1\n",
    "def depth(elem, level):\n",
    "    global maxdepth\n",
    "    if (level == maxdepth):\n",
    "        maxdepth += 1\n",
    "        \n",
    "    for child in elem:\n",
    "        depth(child, level + 1)"
   ]
  },
  {
   "cell_type": "markdown",
   "id": "e4a12ca2-f12f-4499-ba78-8c922b08254c",
   "metadata": {},
   "source": [
    "### Closures and Decorations"
   ]
  },
  {
   "cell_type": "code",
   "execution_count": null,
   "id": "9886f6c4-2c4e-4076-9a63-e50c473f6d93",
   "metadata": {},
   "outputs": [],
   "source": [
    "#Standardize Mobile Number Using Decorators\n",
    "def wrapper(f):\n",
    "    def fun(l):\n",
    "        f([\"+91 \"+c[-10:-5]+\" \"+c[-5:] for c in l])\n",
    "    return fun"
   ]
  },
  {
   "cell_type": "code",
   "execution_count": null,
   "id": "ee782ca6-03c7-4093-a1b6-8b9c4797760c",
   "metadata": {},
   "outputs": [],
   "source": [
    "#Decorators 2 - Name Directory\n",
    "\n",
    "def person_lister(func):\n",
    "    def inner(people):\n",
    "        return [func(p) for p in sorted(people, key = lambda x: (int(x[2])))]\n",
    "    return inner\n"
   ]
  },
  {
   "cell_type": "markdown",
   "id": "10e85758-e651-406e-b1f8-8e0a304f87ba",
   "metadata": {},
   "source": [
    "### Numpy"
   ]
  },
  {
   "cell_type": "code",
   "execution_count": null,
   "id": "67055bd1-c528-40f2-a3c7-c801fa18aded",
   "metadata": {},
   "outputs": [],
   "source": [
    "#Arrays\n",
    "\n",
    "def arrays(arr):\n",
    "    return(numpy.array(arr[::-1],float))"
   ]
  },
  {
   "cell_type": "code",
   "execution_count": null,
   "id": "1f720ca4-61d5-48c1-8ba1-95a639340620",
   "metadata": {},
   "outputs": [],
   "source": [
    "#Shape and Reshape\n",
    "import numpy\n",
    "array = list(map(int,input().split()))\n",
    "numpy_array = numpy.array(array)\n",
    "print(numpy.reshape(numpy_array,(3,3)))"
   ]
  },
  {
   "cell_type": "code",
   "execution_count": null,
   "id": "34894c81-d590-4b23-b8c3-a268c3d81ac4",
   "metadata": {},
   "outputs": [],
   "source": [
    "#Transpose and Flatten\n",
    "import numpy\n",
    "n,m = map(int,input().split())\n",
    "my_array = []\n",
    "for i in range(n):\n",
    "    row = list(map(int,input().split()))\n",
    "    my_array.append(row)\n",
    "\n",
    "np_array = numpy.array(my_array)\n",
    "print(numpy.transpose(np_array))\n",
    "print(np_array.flatten())"
   ]
  },
  {
   "cell_type": "code",
   "execution_count": null,
   "id": "8f5b243d-deda-4cae-a106-8584b95aedda",
   "metadata": {},
   "outputs": [],
   "source": [
    "#Concatenate\n",
    "import numpy\n",
    "n,m,p=map(int,input().split())\n",
    "my_array1=[]\n",
    "my_array2=[]\n",
    "for i in range (n):\n",
    "    tmp=list(map(int,input().split()))\n",
    "    my_array1.append(tmp)\n",
    "for i in range (m):\n",
    "    tmp=list(map(int,input().split()))\n",
    "    my_array2.append(tmp)\n",
    "np_arr1=numpy.array(my_array1)\n",
    "np_arr2=numpy.array(my_array2)\n",
    "print(numpy.concatenate((np_arr1,np_arr2),axis=0))"
   ]
  },
  {
   "cell_type": "code",
   "execution_count": null,
   "id": "c0bf5295-c7b1-4fcf-aad6-458a22c59694",
   "metadata": {},
   "outputs": [],
   "source": [
    "#Zeros and Ones\n",
    "import numpy\n",
    "n_ar = list(map(int,input().split()))\n",
    "n = tuple(n_ar)\n",
    "print(numpy.zeros(n,dtype=numpy.int))\n",
    "print(numpy.ones(n,dtype=numpy.int))\n"
   ]
  },
  {
   "cell_type": "code",
   "execution_count": null,
   "id": "647910d6-6075-4c0f-9bec-abb6e36c0c30",
   "metadata": {},
   "outputs": [],
   "source": [
    "#Eye and Identity\n",
    "import numpy\n",
    "numpy.set_printoptions(legacy='1.13')\n",
    "n,m=map(int,input().split())\n",
    "print(numpy.eye(n,m,k=0))\n"
   ]
  },
  {
   "cell_type": "code",
   "execution_count": null,
   "id": "2f22f09b-02ee-406a-9771-0c4c554a26da",
   "metadata": {},
   "outputs": [],
   "source": [
    "#Array Mathematics\n",
    "import numpy\n",
    "n,m = map(int,input().split())\n",
    "arr1 = []\n",
    "arr2 = []\n",
    "for i in range(n):\n",
    "    tmp = list(map(int,input().split()))\n",
    "    arr1.append(tmp)\n",
    "for i in range(n):\n",
    "    tmp = list(map(int,input().split()))\n",
    "    arr2.append(tmp)\n",
    "np_arr1 = numpy.array(arr1)\n",
    "np_arr2 = numpy.array(arr2)\n",
    "print(np_arr1 + np_arr2)\n",
    "print(np_arr1 - np_arr2)\n",
    "print(np_arr1 * np_arr2)\n",
    "print(np_arr1 // np_arr2)\n",
    "print(np_arr1 % np_arr2)\n",
    "print(np_arr1 ** np_arr2)"
   ]
  },
  {
   "cell_type": "code",
   "execution_count": null,
   "id": "f1a61c3e-dc48-4c8f-9760-487292cd0b37",
   "metadata": {},
   "outputs": [],
   "source": [
    "#Floor, Ceil and Rint\n",
    "import numpy\n",
    "numpy.set_printoptions(legacy='1.13')\n",
    "A=numpy.array(input().split(),float)\n",
    "print(numpy.floor(A))\n",
    "print(numpy.ceil(A))\n",
    "print(numpy.rint(A))"
   ]
  },
  {
   "cell_type": "code",
   "execution_count": null,
   "id": "8b6aa1b4-7c7b-46de-9625-892cf9f0d374",
   "metadata": {},
   "outputs": [],
   "source": [
    "#Sum and Prod\n",
    "import numpy\n",
    "n,m=map(int,input().split())\n",
    "arr=[]\n",
    "for i in range (n):\n",
    "    tmp=list(map(int,input().split()))\n",
    "    arr.append(tmp)\n",
    "numpy_arr=numpy.array(arr)\n",
    "s=numpy.sum(numpy_arr,axis=0)\n",
    "print(numpy.prod(s))\n"
   ]
  },
  {
   "cell_type": "code",
   "execution_count": null,
   "id": "d7eb7c55-36c6-449a-ad03-237e12000895",
   "metadata": {},
   "outputs": [],
   "source": [
    "#Min and Max\n",
    "import numpy\n",
    "n,m=map(int,input().split())\n",
    "arr=[]\n",
    "for i in range (n):\n",
    "    tmp=list(map(int,input().split()))\n",
    "    arr.append(tmp)\n",
    "numpy_arr=numpy.array(arr)\n",
    "print(numpy.max(numpy.min(numpy_arr,axis=1)))\n"
   ]
  },
  {
   "cell_type": "code",
   "execution_count": null,
   "id": "091a5b9a-028b-4637-a2e2-7dd46c420179",
   "metadata": {},
   "outputs": [],
   "source": [
    "#Mean, Var, and Std\n",
    "import numpy\n",
    "arr = []\n",
    "n, m = map(int, input().split())\n",
    "for i in range(n): \n",
    "    arr.append(list(map(int, input().split())))\n",
    "np_array = numpy.array(arr)\n",
    "print(numpy.mean(np_array, axis=1))\n",
    "print(numpy.var(np_array, axis=0))\n",
    "print(round(numpy.std(np_array), 11))"
   ]
  },
  {
   "cell_type": "code",
   "execution_count": null,
   "id": "d19ad6a6-d3ab-44d7-aee7-5511ac6cd3f2",
   "metadata": {},
   "outputs": [],
   "source": [
    "#Dot and Cross\n",
    "import numpy\n",
    "n = int(input())\n",
    "arr1 = []\n",
    "arr2 = []\n",
    "for i in range(n):\n",
    "    tmp = list(map(int,input().split()))\n",
    "    arr1.append(tmp)\n",
    "np_arr1 = numpy.array(arr1)\n",
    "for i in range(n):\n",
    "    tmp = list(map(int,input().split()))\n",
    "    arr2.append(tmp)\n",
    "np_arr2 = numpy.array(arr2)\n",
    "print(numpy.dot(np_arr1,np_arr2))"
   ]
  },
  {
   "cell_type": "code",
   "execution_count": null,
   "id": "d104b774-bcec-40eb-aa3a-aa02213f273e",
   "metadata": {},
   "outputs": [],
   "source": [
    "#Inner and Outer\n",
    "import numpy\n",
    "np_arr1 = numpy.array(list(map(int,input().split())))\n",
    "np_arr2 = numpy.array(list(map(int,input().split())))\n",
    "print(numpy.inner(np_arr1,np_arr2))\n",
    "print(numpy.outer(np_arr1,np_arr2))"
   ]
  },
  {
   "cell_type": "code",
   "execution_count": null,
   "id": "e483040a-3d88-49c5-b730-308181e2be25",
   "metadata": {},
   "outputs": [],
   "source": [
    "#Polynomials\n",
    "import numpy\n",
    "p = numpy.array(list(map(float,input().split())),float)\n",
    "x = float(input())\n",
    "print(numpy.polyval(p,x))"
   ]
  },
  {
   "cell_type": "code",
   "execution_count": null,
   "id": "bd23e72a-51bb-4589-ac7e-d19972f68466",
   "metadata": {},
   "outputs": [],
   "source": [
    "#Linear Algebra\n",
    "import numpy\n",
    "numpy.set_printoptions(legacy='1.13')\n",
    "n = int(input())\n",
    "arr = numpy.array([input().split() for i in range (n)], float)\n",
    "print(numpy.linalg.det(arr))\n"
   ]
  },
  {
   "cell_type": "markdown",
   "id": "e4bb2e4c-c1dc-4479-bb8b-34d5b460591e",
   "metadata": {},
   "source": [
    "## Problem 2"
   ]
  },
  {
   "cell_type": "markdown",
   "id": "9d728b9a-d86d-444e-b6c7-e3901319554c",
   "metadata": {},
   "source": [
    "### Birthday Cake Candles"
   ]
  },
  {
   "cell_type": "code",
   "execution_count": null,
   "id": "df28a08d-1527-44b6-b556-d683bcf1c199",
   "metadata": {},
   "outputs": [],
   "source": [
    "def birthdayCakeCandles(candles):\n",
    "    n = len(candles)\n",
    "    maxnum = 0\n",
    "    count = 0\n",
    "    for i in range (n):\n",
    "        if candles[i] > maxnum:\n",
    "            maxnum = candles[i]\n",
    "            count = 1\n",
    "        elif candles[i] == maxnum:\n",
    "            count+=1\n",
    "    return count"
   ]
  },
  {
   "cell_type": "markdown",
   "id": "a6e9e5b5-4db2-4ef2-a5dd-df701e7baa2e",
   "metadata": {},
   "source": [
    "### Number Line Jumps"
   ]
  },
  {
   "cell_type": "code",
   "execution_count": null,
   "id": "8451ae9a-f707-4d01-a5e9-b1ae7d365d23",
   "metadata": {},
   "outputs": [],
   "source": [
    "def kangaroo(x1, v1, x2, v2):\n",
    "    if x1<x2 and v1<v2:\n",
    "        return \"NO\"\n",
    "    else:\n",
    "        if v1!=v2 and (x2-x1)%(v2-v1)==0:\n",
    "            return \"YES\"\n",
    "        else:\n",
    "            return \"NO\""
   ]
  },
  {
   "cell_type": "markdown",
   "id": "7497e53d-509c-47b0-97cf-fa920fc1a4a1",
   "metadata": {},
   "source": [
    "### Viral Advertising\n",
    "\n"
   ]
  },
  {
   "cell_type": "code",
   "execution_count": null,
   "id": "ad6b85fa-9702-4e15-9fa0-23380c88a276",
   "metadata": {},
   "outputs": [],
   "source": [
    "\n",
    "import math\n",
    "import os\n",
    "import random\n",
    "import re\n",
    "import sys\n",
    "\n",
    "#\n",
    "# Complete the 'viralAdvertising' function below.\n",
    "#\n",
    "# The function is expected to return an INTEGER.\n",
    "# The function accepts INTEGER n as parameter.\n",
    "#\n",
    "\n",
    "def viralAdvertising(n):\n",
    "    total_likes = 0\n",
    "    shared = 5\n",
    "    \n",
    "    for i in range (n):\n",
    "        like = shared//2\n",
    "        total_likes+=like\n",
    "        shared = like * 3\n",
    "        \n",
    "    return total_likes\n",
    "\n",
    "if __name__ == '__main__':\n",
    "    fptr = open(os.environ['OUTPUT_PATH'], 'w')\n",
    "\n",
    "    n = int(input().strip())\n",
    "\n",
    "    result = viralAdvertising(n)\n",
    "\n",
    "    fptr.write(str(result) + '\\n')"
   ]
  },
  {
   "cell_type": "markdown",
   "id": "0387b2a0-815a-40a0-a45d-705db1499b6f",
   "metadata": {},
   "source": [
    "### Recursive Digit Sum\n",
    "\n"
   ]
  },
  {
   "cell_type": "code",
   "execution_count": null,
   "id": "abf2d7dc-f1b2-45c0-a36d-153f9d0448c9",
   "metadata": {},
   "outputs": [],
   "source": [
    "import math\n",
    "import os\n",
    "import random\n",
    "import re\n",
    "import sys\n",
    "\n",
    "#\n",
    "# Complete the 'superDigit' function below.\n",
    "#\n",
    "# The function is expected to return an INTEGER.\n",
    "# The function accepts following parameters:\n",
    "#  1. STRING n\n",
    "#  2. INTEGER k\n",
    "#\n",
    "\n",
    "def superDigit(n, k):\n",
    "    digits = map(int, list(n))\n",
    "    return get_super_digit(str(sum(digits) * k))\n",
    "\n",
    "def get_super_digit(p):\n",
    "    if len(p) == 1:\n",
    "        return int(p)\n",
    "    else:\n",
    "        digits = map(int, list(p))\n",
    "        return get_super_digit(str(sum(digits)))\n",
    "\n",
    "\n",
    "if __name__ == '__main__':\n",
    "    fptr = open(os.environ['OUTPUT_PATH'], 'w')\n",
    "\n",
    "    first_multiple_input = input().rstrip().split()\n",
    "\n",
    "    n = first_multiple_input[0]\n",
    "\n",
    "    k = int(first_multiple_input[1])\n",
    "\n",
    "    result = superDigit(n, k)\n",
    "\n",
    "    fptr.write(str(result) + '\\n')\n",
    "\n",
    "    fptr.close()"
   ]
  },
  {
   "cell_type": "markdown",
   "id": "b6f58499-3c53-469a-9939-f6c103a92319",
   "metadata": {},
   "source": [
    "### Insertion Sort - Part 1"
   ]
  },
  {
   "cell_type": "code",
   "execution_count": null,
   "id": "d6ae595c-6f03-4f10-b446-0e94ec3454eb",
   "metadata": {},
   "outputs": [],
   "source": [
    "import math\n",
    "import os\n",
    "import random\n",
    "import re\n",
    "import sys\n",
    "\n",
    "#\n",
    "# Complete the 'insertionSort1' function below.\n",
    "#\n",
    "# The function accepts following parameters:\n",
    "#  1. INTEGER n\n",
    "#  2. INTEGER_ARRAY arr\n",
    "#\n",
    "\n",
    "def insertionSort1(n, arr):\n",
    "    key = arr[-1]\n",
    "    i=n-1\n",
    "    while i>0 and arr[i-1] > key:\n",
    "        arr[i] = arr[i-1]\n",
    "        print(*arr)\n",
    "        i -= 1\n",
    "    arr[i] = key \n",
    "    print(*arr)\n",
    "\n",
    "if __name__ == '__main__':\n",
    "    n = int(input().strip())\n",
    "\n",
    "    arr = list(map(int, input().rstrip().split()))\n",
    "\n",
    "    insertionSort1(n, arr)\n"
   ]
  },
  {
   "cell_type": "markdown",
   "id": "117ed695-d638-46e6-8c30-800d3e1d8678",
   "metadata": {},
   "source": [
    "### Insertion Sort - Part 2"
   ]
  },
  {
   "cell_type": "code",
   "execution_count": null,
   "id": "6ad9c387-062e-4229-88ee-3be43134eef2",
   "metadata": {},
   "outputs": [],
   "source": [
    "import math\n",
    "import os\n",
    "import random\n",
    "import re\n",
    "import sys\n",
    "\n",
    "#\n",
    "# Complete the 'insertionSort2' function below.\n",
    "#\n",
    "# The function accepts following parameters:\n",
    "#  1. INTEGER n\n",
    "#  2. INTEGER_ARRAY arr\n",
    "#\n",
    "\n",
    "def insertionSort2(n, arr):\n",
    "    for j in range(1,n):\n",
    "        key = arr[j]\n",
    "        i = j\n",
    "        while i>0 and arr[i-1] > key:\n",
    "            arr[i] = arr[i-1]\n",
    "            i -= 1\n",
    "        arr[i] = key\n",
    "        print(*arr)\n",
    "\n",
    "if __name__ == '__main__':\n",
    "    n = int(input().strip())\n",
    "\n",
    "    arr = list(map(int, input().rstrip().split()))\n",
    "\n",
    "    insertionSort2(n, arr) "
   ]
  }
 ],
 "metadata": {
  "kernelspec": {
   "display_name": "Python 3 (ipykernel)",
   "language": "python",
   "name": "python3"
  },
  "language_info": {
   "codemirror_mode": {
    "name": "ipython",
    "version": 3
   },
   "file_extension": ".py",
   "mimetype": "text/x-python",
   "name": "python",
   "nbconvert_exporter": "python",
   "pygments_lexer": "ipython3",
   "version": "3.10.7"
  }
 },
 "nbformat": 4,
 "nbformat_minor": 5
}
